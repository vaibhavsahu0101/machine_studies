import os
import numpy as np
import matplotlib.pyplot as plt
from skimage import io
from scipy.optimize import curve_fit
from glob import glob